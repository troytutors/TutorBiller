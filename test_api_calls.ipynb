{
 "cells": [
  {
   "cell_type": "code",
   "execution_count": 40,
   "id": "3cee32c8",
   "metadata": {},
   "outputs": [],
   "source": [
    "import requests"
   ]
  },
  {
   "cell_type": "code",
   "execution_count": 41,
   "id": "a3ff39a2",
   "metadata": {},
   "outputs": [],
   "source": [
    "secret_key = \"\" # configure in .env\n",
    "environment = \"sandbox\"\n",
    "tutor_email = \"zacknawrocki@gmail.com\" # Enter your own email here to receive your own confirmation email after the billing is called\n",
    "student_email = \"test@test.com\"\n",
    "course = \"Calculus I\"\n",
    "session_date = \"Nov 25, 2022\"\n",
    "session_minutes = 60\n",
    "price = 33"
   ]
  },
  {
   "cell_type": "code",
   "execution_count": 42,
   "id": "29ed4e8c",
   "metadata": {},
   "outputs": [],
   "source": [
    "url = \"http://localhost:5000/bill\"\n",
    "body = {\"secret_key\": secret_key, \"environment\": environment, \"tutor_email\": tutor_email, \"student_email\": student_email, \"course\": course, \"session_date\": session_date, \"session_minutes\": session_minutes, \"price\": price}\n",
    "response = requests.post(url, json=body)"
   ]
  },
  {
   "cell_type": "code",
   "execution_count": 43,
   "id": "8d0cd495",
   "metadata": {},
   "outputs": [
    {
     "data": {
      "text/plain": [
       "200"
      ]
     },
     "execution_count": 43,
     "metadata": {},
     "output_type": "execute_result"
    }
   ],
   "source": [
    "response.status_code"
   ]
  },
  {
   "cell_type": "code",
   "execution_count": 44,
   "id": "53ce692e",
   "metadata": {},
   "outputs": [
    {
     "data": {
      "text/plain": [
       "{'billed': True,\n",
       " 'emailed': True,\n",
       " 'invoice_id': 'inv:0-ChARfdNv6Q4zvLK6J5lZGkugEM8J',\n",
       " 'invoice_version': 1}"
      ]
     },
     "execution_count": 44,
     "metadata": {},
     "output_type": "execute_result"
    }
   ],
   "source": [
    "response.json()"
   ]
  },
  {
   "cell_type": "code",
   "execution_count": null,
   "id": "f48d9bc6",
   "metadata": {},
   "outputs": [],
   "source": []
  }
 ],
 "metadata": {
  "kernelspec": {
   "display_name": "Python 3 (ipykernel)",
   "language": "python",
   "name": "python3"
  },
  "language_info": {
   "codemirror_mode": {
    "name": "ipython",
    "version": 3
   },
   "file_extension": ".py",
   "mimetype": "text/x-python",
   "name": "python",
   "nbconvert_exporter": "python",
   "pygments_lexer": "ipython3",
   "version": "3.7.12"
  }
 },
 "nbformat": 4,
 "nbformat_minor": 5
}
